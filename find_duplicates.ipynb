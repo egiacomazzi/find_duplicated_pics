{
 "cells": [
  {
   "cell_type": "code",
   "execution_count": 1,
   "metadata": {},
   "outputs": [],
   "source": [
    "import numpy as np\n",
    "import cv2\n",
    "import os"
   ]
  },
  {
   "cell_type": "code",
   "execution_count": 18,
   "metadata": {},
   "outputs": [],
   "source": [
    "img = cv2.imread('_MG_2858copy.jpg',0)\n",
    "img2 = cv2.imread('_MG_2858copy2.jpg',0)\n",
    "img3 = cv2.imread('DSC_7249copy.jpg',0)"
   ]
  },
  {
   "cell_type": "code",
   "execution_count": 5,
   "metadata": {},
   "outputs": [
    {
     "data": {
      "text/plain": [
       "array([[198, 198, 197, ..., 244, 245, 244],\n",
       "       [198, 198, 197, ..., 244, 245, 244],\n",
       "       [197, 198, 198, ..., 245, 245, 245],\n",
       "       ...,\n",
       "       [174, 174, 175, ..., 114, 112, 110],\n",
       "       [174, 175, 175, ..., 115, 113, 111],\n",
       "       [175, 175, 175, ..., 115, 113, 112]], dtype=uint8)"
      ]
     },
     "execution_count": 5,
     "metadata": {},
     "output_type": "execute_result"
    }
   ],
   "source": [
    "img"
   ]
  },
  {
   "cell_type": "code",
   "execution_count": 7,
   "metadata": {},
   "outputs": [
    {
     "data": {
      "text/plain": [
       "array([[198, 198, 197, ..., 244, 245, 244],\n",
       "       [198, 198, 197, ..., 244, 245, 244],\n",
       "       [197, 198, 198, ..., 245, 245, 245],\n",
       "       ...,\n",
       "       [174, 174, 175, ..., 114, 112, 110],\n",
       "       [174, 175, 175, ..., 115, 113, 111],\n",
       "       [175, 175, 175, ..., 115, 113, 112]], dtype=uint8)"
      ]
     },
     "execution_count": 7,
     "metadata": {},
     "output_type": "execute_result"
    }
   ],
   "source": [
    "img2"
   ]
  },
  {
   "cell_type": "code",
   "execution_count": 2,
   "metadata": {},
   "outputs": [],
   "source": [
    "def compare(img1, img2):\n",
    "    same = True\n",
    "    if(img1.shape == img2.shape):\n",
    "        \n",
    "        print(\"Images have same size.\")\n",
    "    else:\n",
    "        same = False\n",
    "        print(\"Different Sizes\")\n",
    "        return same\n",
    "    \n",
    "    diff = (img1-img2)    \n",
    "    if not np.any(diff):\n",
    "        print(\"Images are the same.\")\n",
    "        same = True\n",
    "        return same\n",
    "    else:\n",
    "        same = False\n",
    "        print(\"Different images\")\n",
    "        return same\n",
    "    \n",
    "#same = compare(img,img3)\n",
    "\n",
    "    "
   ]
  },
  {
   "cell_type": "code",
   "execution_count": 104,
   "metadata": {
    "scrolled": true
   },
   "outputs": [
    {
     "name": "stdout",
     "output_type": "stream",
     "text": [
      "Images have same size.\n",
      "Images are the same.\n",
      "Images have same size.\n",
      "Different images\n",
      "Images have same size.\n",
      "Different images\n",
      "Images have same size.\n",
      "Images are the same.\n",
      "Path of img1: /Users/elena/Desktop/test/DSC02135 copy.JPG\n",
      "Path of img2: /Users/elena/Desktop/test/DSC02135.JPG\n",
      "Images have same size.\n",
      "Images are the same.\n",
      "Path of img1: /Users/elena/Desktop/test/test_fotos/test_test_foto/DSC02135 copy.JPG\n",
      "Path of img2: /Users/elena/Desktop/test/DSC02135 copy.JPG\n",
      "Images have same size.\n",
      "Different images\n",
      "Images have same size.\n",
      "Different images\n",
      "Images have same size.\n",
      "Images are the same.\n",
      "Path of img1: /Users/elena/Desktop/test/test_fotos/test_test_foto/DSC02135 copy.JPG\n",
      "Path of img2: /Users/elena/Desktop/test/DSC02135.JPG\n",
      "Images have same size.\n",
      "Different images\n",
      "Images have same size.\n",
      "Different images\n",
      "Images have same size.\n",
      "Different images\n",
      "Images have same size.\n",
      "Different images\n",
      "Images have same size.\n",
      "Images are the same.\n",
      "Path of img1: /Users/elena/Desktop/test/test_fotos/test_test_foto/DSC02135 copy 2.JPG\n",
      "Path of img2: /Users/elena/Desktop/test/DSC02135 copy.JPG\n",
      "Images have same size.\n",
      "Different images\n",
      "Images have same size.\n",
      "Different images\n",
      "Images have same size.\n",
      "Images are the same.\n",
      "Path of img1: /Users/elena/Desktop/test/test_fotos/test_test_foto/DSC02135 copy 2.JPG\n",
      "Path of img2: /Users/elena/Desktop/test/DSC02135.JPG\n",
      "Images have same size.\n",
      "Different images\n",
      "Images have same size.\n",
      "Different images\n",
      "Images have same size.\n",
      "Different images\n",
      "Images have same size.\n",
      "Different images\n",
      "Images have same size.\n",
      "Different images\n",
      "Images have same size.\n",
      "Different images\n",
      "Images have same size.\n",
      "Different images\n",
      "Images have same size.\n",
      "Different images\n",
      "Images have same size.\n",
      "Different images\n",
      "Images have same size.\n",
      "Different images\n",
      "Images have same size.\n",
      "Different images\n",
      "Images have same size.\n",
      "Different images\n",
      "Images have same size.\n",
      "Different images\n",
      "Images have same size.\n",
      "Images are the same.\n",
      "Images have same size.\n",
      "Different images\n",
      "Images have same size.\n",
      "Different images\n",
      "Images have same size.\n",
      "Different images\n",
      "Images have same size.\n",
      "Different images\n",
      "Images have same size.\n",
      "Images are the same.\n",
      "Images have same size.\n",
      "Different images\n",
      "Images have same size.\n",
      "Images are the same.\n",
      "Path of img1: /Users/elena/Desktop/test/DSC02135.JPG\n",
      "Path of img2: /Users/elena/Desktop/test/DSC02135 copy.JPG\n",
      "Images have same size.\n",
      "Different images\n",
      "Images have same size.\n",
      "Different images\n",
      "Images have same size.\n",
      "Images are the same.\n"
     ]
    }
   ],
   "source": [
    "start_path = '/Users/elena/Desktop/test'\n",
    "\n",
    "def run_through_system(start_path, path):\n",
    "    #print(\"begin_path: \" + path)\n",
    "    \n",
    "    for file_or_dir in os.listdir(path+ \"/\"):\n",
    "        #print(\"first loop: \" +file_or_dir)\n",
    "        if file_or_dir[-4:] in ['.JPG','.jpg']:\n",
    "            img1_path = path+ \"/\" +file_or_dir\n",
    "            #print(\"img1:\"+ img1_path)\n",
    "            \n",
    "            for file_or_dir2 in os.listdir(start_path+ \"/\"):\n",
    "            #print(\"second loop: \" +file_or_dir2)\n",
    "                if file_or_dir2[-4:] in ['.JPG','.jpg']:\n",
    "                    img2_path = start_path+ \"/\" +file_or_dir2\n",
    "                    #print(\"img2:\"+ img2_path)\n",
    "                    #print(\"ACHTUNG!!! \" +path)\n",
    "                    img1 = cv2.imread(img1_path,0)\n",
    "                    img2 = cv2.imread(img2_path,0)\n",
    "\n",
    "                    same = compare(img1,img2)\n",
    "\n",
    "                    if same and not img1_path == img2_path:\n",
    "                        print(\"Path of img1: \"+ img1_path)\n",
    "                        print(\"Path of img2: \" + img2_path)\n",
    "                \n",
    "                else:\n",
    "                    if os.path.isdir(os.path.join(path, file_or_dir)):\n",
    "            \n",
    "        else:\n",
    "            if os.path.isdir(os.path.join(path, file_or_dir)):\n",
    "                #print(\"dir go to: \"+os.path.join(path, file_or_dir))\n",
    "                run_through_system(start_path, os.path.join(path, file_or_dir))\n",
    "        \n",
    "        \n",
    "                    \n",
    "\n",
    "            else:\n",
    "                if os.path.isdir(os.path.join(path, file_or_dir)):\n",
    "                    #print(\"dir go to: \"+os.path.join(path, file_or_dir))\n",
    "                    run_through_system(start_path, os.path.join(path, file_or_dir))\n",
    "\n",
    "        \n",
    "\n",
    "\n",
    "run_through_system(start_path,start_path)\n",
    "\n"
   ]
  },
  {
   "cell_type": "code",
   "execution_count": 56,
   "metadata": {},
   "outputs": [
    {
     "data": {
      "text/plain": [
       "['2019.12.07. - Osnabrück Weihnachtsmarkt',\n",
       " '.DS_Store',\n",
       " 'Schwarzwald Benni',\n",
       " '2019.11.29.-10.1. - Brandenburg mit Seve, Daniel, Bianca, Wendy, Enno, Vivi, Fabi, Chris und Cari',\n",
       " 'Videos',\n",
       " '2019.12.29.-2020.1.2. - Silvester in Traisa',\n",
       " '2019.12.06.-07. - Murmeltierweihnachtsfeier 2019 in Leer',\n",
       " 'Norwegen bis Bamberg']"
      ]
     },
     "execution_count": 56,
     "metadata": {},
     "output_type": "execute_result"
    }
   ],
   "source": [
    "os.listdir('/Users/elena/Desktop/Fotos'+ \"/\")"
   ]
  },
  {
   "cell_type": "code",
   "execution_count": 25,
   "metadata": {},
   "outputs": [
    {
     "name": "stdout",
     "output_type": "stream",
     "text": [
      "found_img: /Users/elena/Desktop/test/DSC02135 copy.JPG\n"
     ]
    },
    {
     "ename": "UnboundLocalError",
     "evalue": "local variable 'img1_path' referenced before assignment",
     "output_type": "error",
     "traceback": [
      "\u001b[0;31m---------------------------------------------------------------------------\u001b[0m",
      "\u001b[0;31mUnboundLocalError\u001b[0m                         Traceback (most recent call last)",
      "\u001b[0;32m<ipython-input-25-3337ebc3d96c>\u001b[0m in \u001b[0;36m<module>\u001b[0;34m()\u001b[0m\n\u001b[1;32m     36\u001b[0m \u001b[0;34m\u001b[0m\u001b[0m\n\u001b[1;32m     37\u001b[0m \u001b[0mstart_path\u001b[0m \u001b[0;34m=\u001b[0m \u001b[0;34m'/Users/elena/Desktop/test'\u001b[0m\u001b[0;34m\u001b[0m\u001b[0m\n\u001b[0;32m---> 38\u001b[0;31m \u001b[0mgo_to_dir\u001b[0m\u001b[0;34m(\u001b[0m\u001b[0mstart_path\u001b[0m\u001b[0;34m,\u001b[0m \u001b[0mfirst_image\u001b[0m\u001b[0;34m=\u001b[0m\u001b[0;32mFalse\u001b[0m\u001b[0;34m)\u001b[0m\u001b[0;34m\u001b[0m\u001b[0m\n\u001b[0m\u001b[1;32m     39\u001b[0m \u001b[0;34m\u001b[0m\u001b[0m\n\u001b[1;32m     40\u001b[0m \u001b[0;34m\u001b[0m\u001b[0m\n",
      "\u001b[0;32m<ipython-input-25-3337ebc3d96c>\u001b[0m in \u001b[0;36mgo_to_dir\u001b[0;34m(path, first_image)\u001b[0m\n\u001b[1;32m     18\u001b[0m                 \u001b[0mimg1_path\u001b[0m \u001b[0;34m=\u001b[0m \u001b[0mpath\u001b[0m\u001b[0;34m+\u001b[0m \u001b[0;34m\"/\"\u001b[0m \u001b[0;34m+\u001b[0m\u001b[0mfile_or_dir\u001b[0m\u001b[0;34m\u001b[0m\u001b[0m\n\u001b[1;32m     19\u001b[0m                 \u001b[0mprint\u001b[0m\u001b[0;34m(\u001b[0m\u001b[0;34m\"found_img: \"\u001b[0m \u001b[0;34m+\u001b[0m \u001b[0mimg1_path\u001b[0m\u001b[0;34m)\u001b[0m\u001b[0;34m\u001b[0m\u001b[0m\n\u001b[0;32m---> 20\u001b[0;31m                 \u001b[0mgo_to_dir\u001b[0m\u001b[0;34m(\u001b[0m\u001b[0mpath\u001b[0m\u001b[0;34m,\u001b[0m \u001b[0mfirst_image\u001b[0m\u001b[0;34m)\u001b[0m\u001b[0;34m\u001b[0m\u001b[0m\n\u001b[0m\u001b[1;32m     21\u001b[0m \u001b[0;34m\u001b[0m\u001b[0m\n\u001b[1;32m     22\u001b[0m             \u001b[0;32melif\u001b[0m \u001b[0mfile_or_dir\u001b[0m\u001b[0;34m[\u001b[0m\u001b[0;34m-\u001b[0m\u001b[0;36m4\u001b[0m\u001b[0;34m:\u001b[0m\u001b[0;34m]\u001b[0m \u001b[0;32min\u001b[0m \u001b[0;34m[\u001b[0m\u001b[0;34m'.JPG'\u001b[0m\u001b[0;34m,\u001b[0m\u001b[0;34m'.jpg'\u001b[0m\u001b[0;34m]\u001b[0m \u001b[0;32mand\u001b[0m \u001b[0mfirst_image\u001b[0m \u001b[0;34m==\u001b[0m \u001b[0;32mTrue\u001b[0m\u001b[0;34m:\u001b[0m\u001b[0;34m\u001b[0m\u001b[0m\n",
      "\u001b[0;32m<ipython-input-25-3337ebc3d96c>\u001b[0m in \u001b[0;36mgo_to_dir\u001b[0;34m(path, first_image)\u001b[0m\n\u001b[1;32m     23\u001b[0m                 \u001b[0mimg2_path\u001b[0m \u001b[0;34m=\u001b[0m \u001b[0mpath\u001b[0m \u001b[0;34m+\u001b[0m \u001b[0;34m\"/\"\u001b[0m \u001b[0;34m+\u001b[0m \u001b[0mfile_or_dir\u001b[0m\u001b[0;34m\u001b[0m\u001b[0m\n\u001b[1;32m     24\u001b[0m \u001b[0;34m\u001b[0m\u001b[0m\n\u001b[0;32m---> 25\u001b[0;31m                 \u001b[0mimg1\u001b[0m \u001b[0;34m=\u001b[0m \u001b[0mcv2\u001b[0m\u001b[0;34m.\u001b[0m\u001b[0mimread\u001b[0m\u001b[0;34m(\u001b[0m\u001b[0mimg1_path\u001b[0m\u001b[0;34m,\u001b[0m\u001b[0;36m0\u001b[0m\u001b[0;34m)\u001b[0m\u001b[0;34m\u001b[0m\u001b[0m\n\u001b[0m\u001b[1;32m     26\u001b[0m                 \u001b[0mimg2\u001b[0m \u001b[0;34m=\u001b[0m \u001b[0mcv2\u001b[0m\u001b[0;34m.\u001b[0m\u001b[0mimread\u001b[0m\u001b[0;34m(\u001b[0m\u001b[0mimg2_path\u001b[0m\u001b[0;34m,\u001b[0m\u001b[0;36m0\u001b[0m\u001b[0;34m)\u001b[0m\u001b[0;34m\u001b[0m\u001b[0m\n\u001b[1;32m     27\u001b[0m \u001b[0;34m\u001b[0m\u001b[0m\n",
      "\u001b[0;31mUnboundLocalError\u001b[0m: local variable 'img1_path' referenced before assignment"
     ]
    }
   ],
   "source": [
    "global img1_path\n",
    "global img2_path\n",
    "\n",
    "def go_to_dir(path, first_image):\n",
    "    # run through list of files/dirs in this path\n",
    "    for file_or_dir in os.listdir(path+ \"/\"):\n",
    "        \n",
    "        # if dir go to directory\n",
    "        if os.path.isdir(os.path.join(path, file_or_dir)):\n",
    "            new_path = path+\"/\"+file_or_dir\n",
    "            print(\"new_path: \" + new_path)\n",
    "            print(\"first_img: \", first_image)\n",
    "            img_path = go_to_dir(new_path,first_image)\n",
    "                \n",
    "        else: \n",
    "            if file_or_dir[-4:] in ['.JPG','.jpg'] and first_image == False:\n",
    "                first_image = True\n",
    "                img1_path = path+ \"/\" +file_or_dir\n",
    "                print(\"found_img: \" + img1_path)\n",
    "                go_to_dir(path, first_image)\n",
    "                \n",
    "            elif file_or_dir[-4:] in ['.JPG','.jpg'] and first_image == True:\n",
    "                img2_path = path + \"/\" + file_or_dir\n",
    "                \n",
    "                img1 = cv2.imread(img1_path,0)\n",
    "                img2 = cv2.imread(img2_path,0)\n",
    "\n",
    "                same = compare(img1,img2)\n",
    "                if same and not img1_path == img2_path:\n",
    "\n",
    "                    print(\"Path of img1: \"+ img1_path)\n",
    "                    print(\"Path of img2: \" + img2_path)\n",
    "\n",
    "\n",
    "    \n",
    "\n",
    "start_path = '/Users/elena/Desktop/test'\n",
    "go_to_dir(start_path, first_image=False)\n",
    "\n",
    "\n"
   ]
  },
  {
   "cell_type": "code",
   "execution_count": null,
   "metadata": {},
   "outputs": [],
   "source": []
  }
 ],
 "metadata": {
  "kernelspec": {
   "display_name": "Python 3",
   "language": "python",
   "name": "python3"
  },
  "language_info": {
   "codemirror_mode": {
    "name": "ipython",
    "version": 3
   },
   "file_extension": ".py",
   "mimetype": "text/x-python",
   "name": "python",
   "nbconvert_exporter": "python",
   "pygments_lexer": "ipython3",
   "version": "3.6.5"
  }
 },
 "nbformat": 4,
 "nbformat_minor": 2
}
